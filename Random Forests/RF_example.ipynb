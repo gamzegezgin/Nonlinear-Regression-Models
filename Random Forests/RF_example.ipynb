{
 "cells": [
  {
   "cell_type": "markdown",
   "id": "67d2fa01-1e40-476e-a53e-b61199659fab",
   "metadata": {},
   "source": [
    "Bagging: Bootstrap yöntemi ile oluşturulan birden fazla karar ağacının ürettiği tahminlerin bir araya getirilerek değerlendirilmesine dayanır.\n",
    "*Bagging => Bootstrap Aggregation kelimelerinden türetilmiştir.\n",
    " \n",
    "- RMSE değerini düşürür.\n",
    "- Varyansı düşük, ezberlemeye karşı dayanıklı.\n"
   ]
  },
  {
   "cell_type": "markdown",
   "id": "e0a81178-c778-438d-8a9c-3d08f0e05046",
   "metadata": {},
   "source": [
    "- Random Forests yöntemi **Bagging** ve **Random Subspace** yöntemlerinin birleşimi ile oluşmuştur. Bagginge ek olarak değişken seçiminde de rassallık mümkün.\n",
    "- Ağaçlar için gözlemler bootstrap, değişkenler random subspace yöntemi ile seçilir.\n",
    "- Her düğüm noktasında rastgele değişken seçimi yapılır. (reg. p/3, sınıflandırma sqrt(p))"
   ]
  },
  {
   "cell_type": "code",
   "execution_count": null,
   "id": "36f68014-786e-4dd6-9e54-b860623045a4",
   "metadata": {},
   "outputs": [],
   "source": []
  },
  {
   "cell_type": "code",
   "execution_count": 1,
   "id": "898780c0-9c4a-4506-91d3-d84fe2ca0942",
   "metadata": {},
   "outputs": [
    {
     "ename": "SyntaxError",
     "evalue": "invalid syntax (380166480.py, line 1)",
     "output_type": "error",
     "traceback": [
      "\u001b[1;36m  Cell \u001b[1;32mIn[1], line 1\u001b[1;36m\u001b[0m\n\u001b[1;33m    import numpy as np import pandas as pd from sklearn.model_selection import train_test_split, GridSearchCV from sklearn.metrics import mean_squared_error, r2_score import matplotlib.pyplot as plt from sklearn.preprocessing import scale from sklearn.preprocessing import StandardScaler from sklearn import model_selection from sklearn.linear_model import LinearRegression from sklearn.tree import DecisionTreeRegressor from sklearn.neighbors import KNeighborsRegressor from sklearn.neural_network import MLPRegressor from sklearn.ensemble import RandomForestRegressor from sklearn.ensemble import GradientBoostingRegressor from sklearn.svm import SVR\u001b[0m\n\u001b[1;37m                       ^\u001b[0m\n\u001b[1;31mSyntaxError\u001b[0m\u001b[1;31m:\u001b[0m invalid syntax\n"
     ]
    }
   ],
   "source": [
    "import numpy as np import pandas as pd from sklearn.model_selection import train_test_split, GridSearchCV from sklearn.metrics import mean_squared_error, r2_score import matplotlib.pyplot as plt from sklearn.preprocessing import scale from sklearn.preprocessing import StandardScaler from sklearn import model_selection from sklearn.linear_model import LinearRegression from sklearn.tree import DecisionTreeRegressor from sklearn.neighbors import KNeighborsRegressor from sklearn.neural_network import MLPRegressor from sklearn.ensemble import RandomForestRegressor from sklearn.ensemble import GradientBoostingRegressor from sklearn.svm import SVR\n",
    "\n",
    "df = pd.read_csv(\"../Hitters.csv\")\n",
    "df = df.dropna()\n",
    "dms = pd.get_dummies(df[[\"League\",\"Division\", \"NewLeague\"]])\n",
    "y = df[\"Salary\"]\n",
    "X_ = df.drop([\"League\", \"Division\" , \"NewLeague\" ,\"Salary\"], axis=1).astype(\"float64\")\n",
    "X = pd.concat([X_, dms[[\"League_N\",\"Division_W\", \"NewLeague_N\"]]], axis = 1)\n",
    "X_train, X_test, y_train, y_test = train_test_split(X,y, test_size=0.25, random_state=33)"
   ]
  },
  {
   "cell_type": "code",
   "execution_count": null,
   "id": "93048e74-773c-47f2-83fa-b708546c6bbd",
   "metadata": {},
   "outputs": [],
   "source": []
  },
  {
   "cell_type": "code",
   "execution_count": null,
   "id": "1dcb4a24-4145-4253-aca2-b9464ca79aa6",
   "metadata": {},
   "outputs": [],
   "source": []
  }
 ],
 "metadata": {
  "kernelspec": {
   "display_name": "Python 3 (ipykernel)",
   "language": "python",
   "name": "python3"
  },
  "language_info": {
   "codemirror_mode": {
    "name": "ipython",
    "version": 3
   },
   "file_extension": ".py",
   "mimetype": "text/x-python",
   "name": "python",
   "nbconvert_exporter": "python",
   "pygments_lexer": "ipython3",
   "version": "3.12.4"
  }
 },
 "nbformat": 4,
 "nbformat_minor": 5
}

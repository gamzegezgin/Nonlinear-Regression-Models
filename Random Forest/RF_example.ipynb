{
 "cells": [
  {
   "cell_type": "code",
   "execution_count": null,
   "id": "a2b9bb7f-b03a-4276-9fc4-3a6954a5ad79",
   "metadata": {},
   "outputs": [],
   "source": []
  }
 ],
 "metadata": {
  "kernelspec": {
   "display_name": "",
   "name": ""
  },
  "language_info": {
   "name": ""
  }
 },
 "nbformat": 4,
 "nbformat_minor": 5
}
